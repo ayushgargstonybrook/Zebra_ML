{
  "nbformat": 4,
  "nbformat_minor": 0,
  "metadata": {
    "colab": {
      "name": "Zebra_ML.ipynb",
      "provenance": [],
      "collapsed_sections": [],
      "include_colab_link": true
    },
    "kernelspec": {
      "name": "python3",
      "display_name": "Python 3"
    }
  },
  "cells": [
    {
      "cell_type": "markdown",
      "metadata": {
        "id": "view-in-github",
        "colab_type": "text"
      },
      "source": [
        "<a href=\"https://colab.research.google.com/github/ayushgargstonybrook/Zebra_ML/blob/master/Zebra_ML.ipynb\" target=\"_parent\"><img src=\"https://colab.research.google.com/assets/colab-badge.svg\" alt=\"Open In Colab\"/></a>"
      ]
    },
    {
      "cell_type": "code",
      "metadata": {
        "id": "n-FOgd9vmBXa",
        "colab_type": "code",
        "colab": {}
      },
      "source": [
        "import numpy as np\n",
        "import pandas as pd\n",
        "import seaborn as sb\n",
        "import matplotlib.pyplot as plt\n",
        "import sklearn\n",
        "\n",
        "from pandas import Series, DataFrame\n",
        "from pylab import rcParams\n",
        "from sklearn import preprocessing\n",
        "from sklearn.linear_model import LogisticRegression\n",
        "from sklearn.model_selection  import train_test_split\n",
        "from sklearn import metrics \n",
        "from sklearn.metrics import classification_report\n",
        "from sklearn.utils import shuffle"
      ],
      "execution_count": null,
      "outputs": []
    },
    {
      "cell_type": "code",
      "metadata": {
        "id": "5zxGpjwTf36v",
        "colab_type": "code",
        "colab": {
          "base_uri": "https://localhost:8080/",
          "height": 122
        },
        "outputId": "ce444ae0-0adc-44a5-b898-d143f72c9f01"
      },
      "source": [
        "from google.colab import drive\n",
        "drive.mount('/content/drive')"
      ],
      "execution_count": null,
      "outputs": [
        {
          "output_type": "stream",
          "text": [
            "Go to this URL in a browser: https://accounts.google.com/o/oauth2/auth?client_id=947318989803-6bn6qk8qdgf4n4g3pfee6491hc0brc4i.apps.googleusercontent.com&redirect_uri=urn%3Aietf%3Awg%3Aoauth%3A2.0%3Aoob&scope=email%20https%3A%2F%2Fwww.googleapis.com%2Fauth%2Fdocs.test%20https%3A%2F%2Fwww.googleapis.com%2Fauth%2Fdrive%20https%3A%2F%2Fwww.googleapis.com%2Fauth%2Fdrive.photos.readonly%20https%3A%2F%2Fwww.googleapis.com%2Fauth%2Fpeopleapi.readonly&response_type=code\n",
            "\n",
            "Enter your authorization code:\n",
            "··········\n",
            "Mounted at /content/drive\n"
          ],
          "name": "stdout"
        }
      ]
    },
    {
      "cell_type": "code",
      "metadata": {
        "id": "IPL9GKhkfHoo",
        "colab_type": "code",
        "colab": {
          "base_uri": "https://localhost:8080/",
          "height": 204
        },
        "outputId": "6d2ffc77-49e2-4837-80a4-d4da5e8f0c98"
      },
      "source": [
        "region1 = pd.read_csv(\"/content/drive/My Drive/Region1.csv\")\n",
        "region2 = pd.read_csv(\"/content/drive/My Drive/Region2.csv\")\n",
        "region3 = pd.read_csv(\"/content/drive/My Drive/Region3.csv\")\n",
        "region4 = pd.read_csv(\"/content/drive/My Drive/Region4.csv\")\n",
        "region1.columns = ['BeaconId','RSSI']\n",
        "region2.columns = ['BeaconId','RSSI']\n",
        "region3.columns = ['BeaconId','RSSI']\n",
        "region4.columns = ['BeaconId','RSSI']\n",
        "region1.head()"
      ],
      "execution_count": null,
      "outputs": [
        {
          "output_type": "execute_result",
          "data": {
            "text/html": [
              "<div>\n",
              "<style scoped>\n",
              "    .dataframe tbody tr th:only-of-type {\n",
              "        vertical-align: middle;\n",
              "    }\n",
              "\n",
              "    .dataframe tbody tr th {\n",
              "        vertical-align: top;\n",
              "    }\n",
              "\n",
              "    .dataframe thead th {\n",
              "        text-align: right;\n",
              "    }\n",
              "</style>\n",
              "<table border=\"1\" class=\"dataframe\">\n",
              "  <thead>\n",
              "    <tr style=\"text-align: right;\">\n",
              "      <th></th>\n",
              "      <th>BeaconId</th>\n",
              "      <th>RSSI</th>\n",
              "    </tr>\n",
              "  </thead>\n",
              "  <tbody>\n",
              "    <tr>\n",
              "      <th>0</th>\n",
              "      <td>9f234454-cf6d-4a0f-adf2-f4911ba9ffa3</td>\n",
              "      <td>-76</td>\n",
              "    </tr>\n",
              "    <tr>\n",
              "      <th>1</th>\n",
              "      <td>9f234454-cf6d-4a0f-adf2-f4911ba9ffa4</td>\n",
              "      <td>-74</td>\n",
              "    </tr>\n",
              "    <tr>\n",
              "      <th>2</th>\n",
              "      <td>9f234454-cf6d-4a0f-adf2-f4911ba9ffa2</td>\n",
              "      <td>-80</td>\n",
              "    </tr>\n",
              "    <tr>\n",
              "      <th>3</th>\n",
              "      <td>9f234454-cf6d-4a0f-adf2-f4911ba9ffa1</td>\n",
              "      <td>-61</td>\n",
              "    </tr>\n",
              "    <tr>\n",
              "      <th>4</th>\n",
              "      <td>9f234454-cf6d-4a0f-adf2-f4911ba9ffa4</td>\n",
              "      <td>-74</td>\n",
              "    </tr>\n",
              "  </tbody>\n",
              "</table>\n",
              "</div>"
            ],
            "text/plain": [
              "                               BeaconId  RSSI\n",
              "0  9f234454-cf6d-4a0f-adf2-f4911ba9ffa3   -76\n",
              "1  9f234454-cf6d-4a0f-adf2-f4911ba9ffa4   -74\n",
              "2  9f234454-cf6d-4a0f-adf2-f4911ba9ffa2   -80\n",
              "3  9f234454-cf6d-4a0f-adf2-f4911ba9ffa1   -61\n",
              "4  9f234454-cf6d-4a0f-adf2-f4911ba9ffa4   -74"
            ]
          },
          "metadata": {
            "tags": []
          },
          "execution_count": 4
        }
      ]
    },
    {
      "cell_type": "code",
      "metadata": {
        "id": "gMx90XsUgMM0",
        "colab_type": "code",
        "colab": {
          "base_uri": "https://localhost:8080/",
          "height": 34
        },
        "outputId": "35c10bda-b620-4464-cc2e-dbd3767bf4d4"
      },
      "source": [
        "len(region4)"
      ],
      "execution_count": null,
      "outputs": [
        {
          "output_type": "execute_result",
          "data": {
            "text/plain": [
              "4999"
            ]
          },
          "metadata": {
            "tags": []
          },
          "execution_count": 5
        }
      ]
    },
    {
      "cell_type": "code",
      "metadata": {
        "id": "NnH5LOYGhFdW",
        "colab_type": "code",
        "colab": {
          "base_uri": "https://localhost:8080/",
          "height": 68
        },
        "outputId": "62927937-34ae-4f72-d9c0-5a8cfa46fee7"
      },
      "source": [
        "region1.isnull().sum()"
      ],
      "execution_count": null,
      "outputs": [
        {
          "output_type": "execute_result",
          "data": {
            "text/plain": [
              "BeaconId    0\n",
              "RSSI        0\n",
              "dtype: int64"
            ]
          },
          "metadata": {
            "tags": []
          },
          "execution_count": 6
        }
      ]
    },
    {
      "cell_type": "code",
      "metadata": {
        "id": "tAsmvFMWhpyn",
        "colab_type": "code",
        "colab": {
          "base_uri": "https://localhost:8080/",
          "height": 136
        },
        "outputId": "dba71daa-d4d7-4a95-c020-88142076a0e9"
      },
      "source": [
        "region1.info()"
      ],
      "execution_count": null,
      "outputs": [
        {
          "output_type": "stream",
          "text": [
            "<class 'pandas.core.frame.DataFrame'>\n",
            "RangeIndex: 4999 entries, 0 to 4998\n",
            "Data columns (total 2 columns):\n",
            "BeaconId    4999 non-null object\n",
            "RSSI        4999 non-null int64\n",
            "dtypes: int64(1), object(1)\n",
            "memory usage: 78.2+ KB\n"
          ],
          "name": "stdout"
        }
      ]
    },
    {
      "cell_type": "code",
      "metadata": {
        "id": "LCr1au6JhuCK",
        "colab_type": "code",
        "colab": {
          "base_uri": "https://localhost:8080/",
          "height": 359
        },
        "outputId": "1eca7394-2c67-4cc3-b9a4-33276f0406a8"
      },
      "source": [
        "region1.head(10)"
      ],
      "execution_count": null,
      "outputs": [
        {
          "output_type": "execute_result",
          "data": {
            "text/html": [
              "<div>\n",
              "<style scoped>\n",
              "    .dataframe tbody tr th:only-of-type {\n",
              "        vertical-align: middle;\n",
              "    }\n",
              "\n",
              "    .dataframe tbody tr th {\n",
              "        vertical-align: top;\n",
              "    }\n",
              "\n",
              "    .dataframe thead th {\n",
              "        text-align: right;\n",
              "    }\n",
              "</style>\n",
              "<table border=\"1\" class=\"dataframe\">\n",
              "  <thead>\n",
              "    <tr style=\"text-align: right;\">\n",
              "      <th></th>\n",
              "      <th>BeaconId</th>\n",
              "      <th>RSSI</th>\n",
              "    </tr>\n",
              "  </thead>\n",
              "  <tbody>\n",
              "    <tr>\n",
              "      <th>0</th>\n",
              "      <td>9f234454-cf6d-4a0f-adf2-f4911ba9ffa3</td>\n",
              "      <td>-76</td>\n",
              "    </tr>\n",
              "    <tr>\n",
              "      <th>1</th>\n",
              "      <td>9f234454-cf6d-4a0f-adf2-f4911ba9ffa4</td>\n",
              "      <td>-74</td>\n",
              "    </tr>\n",
              "    <tr>\n",
              "      <th>2</th>\n",
              "      <td>9f234454-cf6d-4a0f-adf2-f4911ba9ffa2</td>\n",
              "      <td>-80</td>\n",
              "    </tr>\n",
              "    <tr>\n",
              "      <th>3</th>\n",
              "      <td>9f234454-cf6d-4a0f-adf2-f4911ba9ffa1</td>\n",
              "      <td>-61</td>\n",
              "    </tr>\n",
              "    <tr>\n",
              "      <th>4</th>\n",
              "      <td>9f234454-cf6d-4a0f-adf2-f4911ba9ffa4</td>\n",
              "      <td>-74</td>\n",
              "    </tr>\n",
              "    <tr>\n",
              "      <th>5</th>\n",
              "      <td>9f234454-cf6d-4a0f-adf2-f4911ba9ffa2</td>\n",
              "      <td>-78</td>\n",
              "    </tr>\n",
              "    <tr>\n",
              "      <th>6</th>\n",
              "      <td>9f234454-cf6d-4a0f-adf2-f4911ba9ffa3</td>\n",
              "      <td>-75</td>\n",
              "    </tr>\n",
              "    <tr>\n",
              "      <th>7</th>\n",
              "      <td>9f234454-cf6d-4a0f-adf2-f4911ba9ffa1</td>\n",
              "      <td>-62</td>\n",
              "    </tr>\n",
              "    <tr>\n",
              "      <th>8</th>\n",
              "      <td>9f234454-cf6d-4a0f-adf2-f4911ba9ffa3</td>\n",
              "      <td>-73</td>\n",
              "    </tr>\n",
              "    <tr>\n",
              "      <th>9</th>\n",
              "      <td>9f234454-cf6d-4a0f-adf2-f4911ba9ffa4</td>\n",
              "      <td>-67</td>\n",
              "    </tr>\n",
              "  </tbody>\n",
              "</table>\n",
              "</div>"
            ],
            "text/plain": [
              "                               BeaconId  RSSI\n",
              "0  9f234454-cf6d-4a0f-adf2-f4911ba9ffa3   -76\n",
              "1  9f234454-cf6d-4a0f-adf2-f4911ba9ffa4   -74\n",
              "2  9f234454-cf6d-4a0f-adf2-f4911ba9ffa2   -80\n",
              "3  9f234454-cf6d-4a0f-adf2-f4911ba9ffa1   -61\n",
              "4  9f234454-cf6d-4a0f-adf2-f4911ba9ffa4   -74\n",
              "5  9f234454-cf6d-4a0f-adf2-f4911ba9ffa2   -78\n",
              "6  9f234454-cf6d-4a0f-adf2-f4911ba9ffa3   -75\n",
              "7  9f234454-cf6d-4a0f-adf2-f4911ba9ffa1   -62\n",
              "8  9f234454-cf6d-4a0f-adf2-f4911ba9ffa3   -73\n",
              "9  9f234454-cf6d-4a0f-adf2-f4911ba9ffa4   -67"
            ]
          },
          "metadata": {
            "tags": []
          },
          "execution_count": 8
        }
      ]
    },
    {
      "cell_type": "code",
      "metadata": {
        "id": "L8iR9-wIsnMZ",
        "colab_type": "code",
        "colab": {}
      },
      "source": [
        "def avgL5(arr):\n",
        "  n = len(arr)\n",
        "  res = []\n",
        "  for i in range(0,n,5):\n",
        "    if i+4>=n:\n",
        "      continue\n",
        "    avg = sum((arr[i],arr[i+1],arr[i+2],arr[i+3],arr[i+4]))\n",
        "    res.append(avg/5)\n",
        "  return res"
      ],
      "execution_count": null,
      "outputs": []
    },
    {
      "cell_type": "code",
      "metadata": {
        "id": "JrmupM05tt1C",
        "colab_type": "code",
        "colab": {}
      },
      "source": [
        "def splitBeacon(region):\n",
        "  b1r=[]\n",
        "  b2r=[]\n",
        "  b3r=[]\n",
        "  b4r=[]\n",
        "  n = len(region)\n",
        "  for i in range(n-1):\n",
        "    if region.iloc[i]['BeaconId']==\"9f234454-cf6d-4a0f-adf2-f4911ba9ffa1\":\n",
        "      b1r.append(region.iloc[i]['RSSI'])\n",
        "    elif region.iloc[i]['BeaconId']==\"9f234454-cf6d-4a0f-adf2-f4911ba9ffa2\":\n",
        "      b2r.append(region.iloc[i]['RSSI'])\n",
        "    elif region.iloc[i]['BeaconId']==\"9f234454-cf6d-4a0f-adf2-f4911ba9ffa3\":\n",
        "      b3r.append(region.iloc[i]['RSSI'])\n",
        "    elif region.iloc[i]['BeaconId']==\"9f234454-cf6d-4a0f-adf2-f4911ba9ffa4\":\n",
        "      b4r.append(region.iloc[i]['RSSI'])\n",
        "  return b1r,b2r,b3r,b4r  "
      ],
      "execution_count": null,
      "outputs": []
    },
    {
      "cell_type": "markdown",
      "metadata": {
        "id": "ZEzgCOp-wNCP",
        "colab_type": "text"
      },
      "source": [
        "**Region1**"
      ]
    },
    {
      "cell_type": "code",
      "metadata": {
        "id": "1SEEgR6vusQu",
        "colab_type": "code",
        "colab": {}
      },
      "source": [
        "b1r1,b2r1,b3r1,b4r1 = splitBeacon(region1)"
      ],
      "execution_count": null,
      "outputs": []
    },
    {
      "cell_type": "code",
      "metadata": {
        "id": "9fWVkEBZoPZ6",
        "colab_type": "code",
        "colab": {
          "base_uri": "https://localhost:8080/",
          "height": 34
        },
        "outputId": "b2e3ecd6-0593-4629-e667-392739140574"
      },
      "source": [
        "len(b3r1)"
      ],
      "execution_count": null,
      "outputs": [
        {
          "output_type": "execute_result",
          "data": {
            "text/plain": [
              "996"
            ]
          },
          "metadata": {
            "tags": []
          },
          "execution_count": 12
        }
      ]
    },
    {
      "cell_type": "code",
      "metadata": {
        "id": "76mPNPpYodUZ",
        "colab_type": "code",
        "colab": {}
      },
      "source": [
        "zb1r1=avgL5(b1r1)\n",
        "zb2r1=avgL5(b2r1)\n",
        "zb3r1=avgL5(b3r1)\n",
        "zb4r1=avgL5(b4r1)"
      ],
      "execution_count": null,
      "outputs": []
    },
    {
      "cell_type": "code",
      "metadata": {
        "id": "1-iZA_N2qQtG",
        "colab_type": "code",
        "colab": {
          "base_uri": "https://localhost:8080/",
          "height": 34
        },
        "outputId": "1182cd90-40e8-4ef1-e090-827b83eb1608"
      },
      "source": [
        "len(zb4r1)"
      ],
      "execution_count": null,
      "outputs": [
        {
          "output_type": "execute_result",
          "data": {
            "text/plain": [
              "298"
            ]
          },
          "metadata": {
            "tags": []
          },
          "execution_count": 14
        }
      ]
    },
    {
      "cell_type": "markdown",
      "metadata": {
        "id": "vwyJmPjosN62",
        "colab_type": "text"
      },
      "source": [
        "**Region2**"
      ]
    },
    {
      "cell_type": "code",
      "metadata": {
        "id": "nWXYZ3-Mro0N",
        "colab_type": "code",
        "colab": {}
      },
      "source": [
        "b1r2,b2r2,b3r2,b4r2 = splitBeacon(region2)"
      ],
      "execution_count": null,
      "outputs": []
    },
    {
      "cell_type": "code",
      "metadata": {
        "id": "IbI79XLFwa17",
        "colab_type": "code",
        "colab": {
          "base_uri": "https://localhost:8080/",
          "height": 34
        },
        "outputId": "1e22a1f1-b8b5-44fa-887b-a72b78584cdf"
      },
      "source": [
        "len(b1r2)"
      ],
      "execution_count": null,
      "outputs": [
        {
          "output_type": "execute_result",
          "data": {
            "text/plain": [
              "1136"
            ]
          },
          "metadata": {
            "tags": []
          },
          "execution_count": 16
        }
      ]
    },
    {
      "cell_type": "code",
      "metadata": {
        "id": "Qnsj4B4Ewgdd",
        "colab_type": "code",
        "colab": {}
      },
      "source": [
        "zb1r2=avgL5(b1r2)\n",
        "zb2r2=avgL5(b2r2)\n",
        "zb3r2=avgL5(b3r2)\n",
        "zb4r2=avgL5(b4r2)"
      ],
      "execution_count": null,
      "outputs": []
    },
    {
      "cell_type": "code",
      "metadata": {
        "id": "E9b1oZ7Lx-Rp",
        "colab_type": "code",
        "colab": {
          "base_uri": "https://localhost:8080/",
          "height": 34
        },
        "outputId": "fa168148-161f-4246-dda2-e75e45546a0f"
      },
      "source": [
        "len(zb4r2)"
      ],
      "execution_count": null,
      "outputs": [
        {
          "output_type": "execute_result",
          "data": {
            "text/plain": [
              "245"
            ]
          },
          "metadata": {
            "tags": []
          },
          "execution_count": 18
        }
      ]
    },
    {
      "cell_type": "markdown",
      "metadata": {
        "id": "zVbREOXUyDdw",
        "colab_type": "text"
      },
      "source": [
        "**Region3**"
      ]
    },
    {
      "cell_type": "code",
      "metadata": {
        "colab_type": "code",
        "id": "3qO8coC_yImZ",
        "colab": {}
      },
      "source": [
        "b1r3,b2r3,b3r3,b4r3 = splitBeacon(region3)"
      ],
      "execution_count": null,
      "outputs": []
    },
    {
      "cell_type": "code",
      "metadata": {
        "colab_type": "code",
        "id": "Ow7BzmLdyMIT",
        "colab": {
          "base_uri": "https://localhost:8080/",
          "height": 34
        },
        "outputId": "00f7ad14-b0f2-4b7c-b505-a461771a8b69"
      },
      "source": [
        "len(b2r3)"
      ],
      "execution_count": null,
      "outputs": [
        {
          "output_type": "execute_result",
          "data": {
            "text/plain": [
              "1116"
            ]
          },
          "metadata": {
            "tags": []
          },
          "execution_count": 20
        }
      ]
    },
    {
      "cell_type": "code",
      "metadata": {
        "colab_type": "code",
        "id": "T5WbYrFRyVQt",
        "colab": {}
      },
      "source": [
        "zb1r3=avgL5(b1r3)\n",
        "zb2r3=avgL5(b2r3)\n",
        "zb3r3=avgL5(b3r3)\n",
        "zb4r3=avgL5(b4r3)"
      ],
      "execution_count": null,
      "outputs": []
    },
    {
      "cell_type": "code",
      "metadata": {
        "colab_type": "code",
        "id": "Buki3eZoydVR",
        "colab": {
          "base_uri": "https://localhost:8080/",
          "height": 34
        },
        "outputId": "a36a10b7-a73e-4b88-e8a9-86e6b9781159"
      },
      "source": [
        "len(zb1r3)"
      ],
      "execution_count": null,
      "outputs": [
        {
          "output_type": "execute_result",
          "data": {
            "text/plain": [
              "206"
            ]
          },
          "metadata": {
            "tags": []
          },
          "execution_count": 22
        }
      ]
    },
    {
      "cell_type": "markdown",
      "metadata": {
        "id": "8LoHBv_Ayl0w",
        "colab_type": "text"
      },
      "source": [
        "**Region4**"
      ]
    },
    {
      "cell_type": "code",
      "metadata": {
        "colab_type": "code",
        "id": "3PdV6fGPyqS5",
        "colab": {}
      },
      "source": [
        "b1r4,b2r4,b3r4,b4r4 = splitBeacon(region4)"
      ],
      "execution_count": null,
      "outputs": []
    },
    {
      "cell_type": "code",
      "metadata": {
        "colab_type": "code",
        "id": "YTiOwN6VysSG",
        "colab": {
          "base_uri": "https://localhost:8080/",
          "height": 34
        },
        "outputId": "f1a14b2f-519e-4175-a0c4-b5b4458e40c7"
      },
      "source": [
        "len(b3r4)"
      ],
      "execution_count": null,
      "outputs": [
        {
          "output_type": "execute_result",
          "data": {
            "text/plain": [
              "802"
            ]
          },
          "metadata": {
            "tags": []
          },
          "execution_count": 24
        }
      ]
    },
    {
      "cell_type": "code",
      "metadata": {
        "colab_type": "code",
        "id": "QQJWx-iUytg3",
        "colab": {}
      },
      "source": [
        "zb1r4=avgL5(b1r4)\n",
        "zb2r4=avgL5(b2r4)\n",
        "zb3r4=avgL5(b3r4)\n",
        "zb4r4=avgL5(b4r4)"
      ],
      "execution_count": null,
      "outputs": []
    },
    {
      "cell_type": "code",
      "metadata": {
        "id": "K2Tc-rPWpRQD",
        "colab_type": "code",
        "colab": {
          "base_uri": "https://localhost:8080/",
          "height": 34
        },
        "outputId": "da601928-7e44-49a2-f920-46976adfcbf5"
      },
      "source": [
        "zb3r4[:5]"
      ],
      "execution_count": null,
      "outputs": [
        {
          "output_type": "execute_result",
          "data": {
            "text/plain": [
              "[-81.8, -78.0, -75.0, -73.6, -74.0]"
            ]
          },
          "metadata": {
            "tags": []
          },
          "execution_count": 26
        }
      ]
    },
    {
      "cell_type": "code",
      "metadata": {
        "colab_type": "code",
        "id": "QmxErz_3yvrY",
        "colab": {
          "base_uri": "https://localhost:8080/",
          "height": 34
        },
        "outputId": "f89d78f3-102f-4e50-b7c4-a3d01e5fcd10"
      },
      "source": [
        "len(zb3r4)"
      ],
      "execution_count": null,
      "outputs": [
        {
          "output_type": "execute_result",
          "data": {
            "text/plain": [
              "160"
            ]
          },
          "metadata": {
            "tags": []
          },
          "execution_count": 27
        }
      ]
    },
    {
      "cell_type": "markdown",
      "metadata": {
        "id": "IBePSIvSlc0W",
        "colab_type": "text"
      },
      "source": [
        "**Concat**"
      ]
    },
    {
      "cell_type": "code",
      "metadata": {
        "id": "snueTzFHy6aM",
        "colab_type": "code",
        "colab": {}
      },
      "source": [
        "zb1 = zb1r1[:160] + zb1r2[:160] + zb1r3[:160] + zb1r4[:160]\n",
        "zb2 = zb2r1[:160] + zb2r2[:160] + zb2r3[:160] + zb2r4[:160]\n",
        "zb3 = zb3r1[:160] + zb3r2[:160] + zb3r3[:160] + zb3r4[:160]\n",
        "zb4 = zb4r1[:160] + zb4r2[:160] + zb4r3[:160] + zb4r4[:160]"
      ],
      "execution_count": null,
      "outputs": []
    },
    {
      "cell_type": "code",
      "metadata": {
        "id": "dlze0_2HmCMm",
        "colab_type": "code",
        "colab": {
          "base_uri": "https://localhost:8080/",
          "height": 34
        },
        "outputId": "dfed2965-31f3-4fd6-af8e-3dfd6fa509e1"
      },
      "source": [
        "len(zb1)"
      ],
      "execution_count": null,
      "outputs": [
        {
          "output_type": "execute_result",
          "data": {
            "text/plain": [
              "640"
            ]
          },
          "metadata": {
            "tags": []
          },
          "execution_count": 29
        }
      ]
    },
    {
      "cell_type": "code",
      "metadata": {
        "id": "JX-4yOz4mMBi",
        "colab_type": "code",
        "colab": {}
      },
      "source": [
        "label = [1]*160 + [2]*160 + [3]*160 + [4]*160"
      ],
      "execution_count": null,
      "outputs": []
    },
    {
      "cell_type": "code",
      "metadata": {
        "id": "Z-B1jhVSmi7Y",
        "colab_type": "code",
        "colab": {
          "base_uri": "https://localhost:8080/",
          "height": 34
        },
        "outputId": "2e93abcd-168f-45b1-87d5-335e4a320d53"
      },
      "source": [
        "len(label)"
      ],
      "execution_count": null,
      "outputs": [
        {
          "output_type": "execute_result",
          "data": {
            "text/plain": [
              "640"
            ]
          },
          "metadata": {
            "tags": []
          },
          "execution_count": 31
        }
      ]
    },
    {
      "cell_type": "code",
      "metadata": {
        "id": "m-xSIvKKmkcQ",
        "colab_type": "code",
        "colab": {
          "base_uri": "https://localhost:8080/",
          "height": 34
        },
        "outputId": "7a32b9ef-1f9d-4b6b-ca1e-9d93ae2aa84b"
      },
      "source": [
        "print(label[639])"
      ],
      "execution_count": null,
      "outputs": [
        {
          "output_type": "stream",
          "text": [
            "4\n"
          ],
          "name": "stdout"
        }
      ]
    },
    {
      "cell_type": "code",
      "metadata": {
        "id": "J8lEPg8UmpbA",
        "colab_type": "code",
        "colab": {}
      },
      "source": [
        "df = pd.DataFrame(list(zip(zb1, zb2, zb3, zb4, label)), columns =['beacon1', 'beacon2', 'beacon3', 'beacon4', 'region'])"
      ],
      "execution_count": null,
      "outputs": []
    },
    {
      "cell_type": "code",
      "metadata": {
        "id": "Q_TC4XSEnmaj",
        "colab_type": "code",
        "colab": {
          "base_uri": "https://localhost:8080/",
          "height": 204
        },
        "outputId": "947bb8a2-2714-4031-bd10-c97b93736f9f"
      },
      "source": [
        "df.head()"
      ],
      "execution_count": null,
      "outputs": [
        {
          "output_type": "execute_result",
          "data": {
            "text/html": [
              "<div>\n",
              "<style scoped>\n",
              "    .dataframe tbody tr th:only-of-type {\n",
              "        vertical-align: middle;\n",
              "    }\n",
              "\n",
              "    .dataframe tbody tr th {\n",
              "        vertical-align: top;\n",
              "    }\n",
              "\n",
              "    .dataframe thead th {\n",
              "        text-align: right;\n",
              "    }\n",
              "</style>\n",
              "<table border=\"1\" class=\"dataframe\">\n",
              "  <thead>\n",
              "    <tr style=\"text-align: right;\">\n",
              "      <th></th>\n",
              "      <th>beacon1</th>\n",
              "      <th>beacon2</th>\n",
              "      <th>beacon3</th>\n",
              "      <th>beacon4</th>\n",
              "      <th>region</th>\n",
              "    </tr>\n",
              "  </thead>\n",
              "  <tbody>\n",
              "    <tr>\n",
              "      <th>0</th>\n",
              "      <td>-62.2</td>\n",
              "      <td>-76.8</td>\n",
              "      <td>-73.8</td>\n",
              "      <td>-69.8</td>\n",
              "      <td>1</td>\n",
              "    </tr>\n",
              "    <tr>\n",
              "      <th>1</th>\n",
              "      <td>-63.2</td>\n",
              "      <td>-75.6</td>\n",
              "      <td>-73.0</td>\n",
              "      <td>-67.2</td>\n",
              "      <td>1</td>\n",
              "    </tr>\n",
              "    <tr>\n",
              "      <th>2</th>\n",
              "      <td>-63.2</td>\n",
              "      <td>-73.8</td>\n",
              "      <td>-73.6</td>\n",
              "      <td>-69.6</td>\n",
              "      <td>1</td>\n",
              "    </tr>\n",
              "    <tr>\n",
              "      <th>3</th>\n",
              "      <td>-64.8</td>\n",
              "      <td>-73.8</td>\n",
              "      <td>-72.8</td>\n",
              "      <td>-75.2</td>\n",
              "      <td>1</td>\n",
              "    </tr>\n",
              "    <tr>\n",
              "      <th>4</th>\n",
              "      <td>-62.6</td>\n",
              "      <td>-77.2</td>\n",
              "      <td>-72.2</td>\n",
              "      <td>-73.8</td>\n",
              "      <td>1</td>\n",
              "    </tr>\n",
              "  </tbody>\n",
              "</table>\n",
              "</div>"
            ],
            "text/plain": [
              "   beacon1  beacon2  beacon3  beacon4  region\n",
              "0    -62.2    -76.8    -73.8    -69.8       1\n",
              "1    -63.2    -75.6    -73.0    -67.2       1\n",
              "2    -63.2    -73.8    -73.6    -69.6       1\n",
              "3    -64.8    -73.8    -72.8    -75.2       1\n",
              "4    -62.6    -77.2    -72.2    -73.8       1"
            ]
          },
          "metadata": {
            "tags": []
          },
          "execution_count": 34
        }
      ]
    },
    {
      "cell_type": "code",
      "metadata": {
        "id": "vWsxl645nv0Y",
        "colab_type": "code",
        "colab": {
          "base_uri": "https://localhost:8080/",
          "height": 235
        },
        "outputId": "399c5402-0d55-4389-8cc0-dec90775dc26"
      },
      "source": [
        "df.loc[160:165]"
      ],
      "execution_count": null,
      "outputs": [
        {
          "output_type": "execute_result",
          "data": {
            "text/html": [
              "<div>\n",
              "<style scoped>\n",
              "    .dataframe tbody tr th:only-of-type {\n",
              "        vertical-align: middle;\n",
              "    }\n",
              "\n",
              "    .dataframe tbody tr th {\n",
              "        vertical-align: top;\n",
              "    }\n",
              "\n",
              "    .dataframe thead th {\n",
              "        text-align: right;\n",
              "    }\n",
              "</style>\n",
              "<table border=\"1\" class=\"dataframe\">\n",
              "  <thead>\n",
              "    <tr style=\"text-align: right;\">\n",
              "      <th></th>\n",
              "      <th>beacon1</th>\n",
              "      <th>beacon2</th>\n",
              "      <th>beacon3</th>\n",
              "      <th>beacon4</th>\n",
              "      <th>region</th>\n",
              "    </tr>\n",
              "  </thead>\n",
              "  <tbody>\n",
              "    <tr>\n",
              "      <th>160</th>\n",
              "      <td>-72.0</td>\n",
              "      <td>-66.6</td>\n",
              "      <td>-73.0</td>\n",
              "      <td>-73.0</td>\n",
              "      <td>2</td>\n",
              "    </tr>\n",
              "    <tr>\n",
              "      <th>161</th>\n",
              "      <td>-69.2</td>\n",
              "      <td>-64.4</td>\n",
              "      <td>-70.4</td>\n",
              "      <td>-72.6</td>\n",
              "      <td>2</td>\n",
              "    </tr>\n",
              "    <tr>\n",
              "      <th>162</th>\n",
              "      <td>-63.8</td>\n",
              "      <td>-58.0</td>\n",
              "      <td>-67.8</td>\n",
              "      <td>-71.2</td>\n",
              "      <td>2</td>\n",
              "    </tr>\n",
              "    <tr>\n",
              "      <th>163</th>\n",
              "      <td>-64.2</td>\n",
              "      <td>-58.6</td>\n",
              "      <td>-64.8</td>\n",
              "      <td>-72.0</td>\n",
              "      <td>2</td>\n",
              "    </tr>\n",
              "    <tr>\n",
              "      <th>164</th>\n",
              "      <td>-64.2</td>\n",
              "      <td>-58.8</td>\n",
              "      <td>-67.6</td>\n",
              "      <td>-72.0</td>\n",
              "      <td>2</td>\n",
              "    </tr>\n",
              "    <tr>\n",
              "      <th>165</th>\n",
              "      <td>-63.8</td>\n",
              "      <td>-58.0</td>\n",
              "      <td>-69.4</td>\n",
              "      <td>-71.6</td>\n",
              "      <td>2</td>\n",
              "    </tr>\n",
              "  </tbody>\n",
              "</table>\n",
              "</div>"
            ],
            "text/plain": [
              "     beacon1  beacon2  beacon3  beacon4  region\n",
              "160    -72.0    -66.6    -73.0    -73.0       2\n",
              "161    -69.2    -64.4    -70.4    -72.6       2\n",
              "162    -63.8    -58.0    -67.8    -71.2       2\n",
              "163    -64.2    -58.6    -64.8    -72.0       2\n",
              "164    -64.2    -58.8    -67.6    -72.0       2\n",
              "165    -63.8    -58.0    -69.4    -71.6       2"
            ]
          },
          "metadata": {
            "tags": []
          },
          "execution_count": 35
        }
      ]
    },
    {
      "cell_type": "code",
      "metadata": {
        "id": "h5cEZcP5oWj6",
        "colab_type": "code",
        "colab": {}
      },
      "source": [
        "shuffdf = shuffle(df)"
      ],
      "execution_count": null,
      "outputs": []
    },
    {
      "cell_type": "code",
      "metadata": {
        "id": "FwdzN5L7sDHl",
        "colab_type": "code",
        "colab": {
          "base_uri": "https://localhost:8080/",
          "height": 204
        },
        "outputId": "122e3451-5119-4241-f9a8-acd35cc9a2e1"
      },
      "source": [
        "shuffdf.head()"
      ],
      "execution_count": null,
      "outputs": [
        {
          "output_type": "execute_result",
          "data": {
            "text/html": [
              "<div>\n",
              "<style scoped>\n",
              "    .dataframe tbody tr th:only-of-type {\n",
              "        vertical-align: middle;\n",
              "    }\n",
              "\n",
              "    .dataframe tbody tr th {\n",
              "        vertical-align: top;\n",
              "    }\n",
              "\n",
              "    .dataframe thead th {\n",
              "        text-align: right;\n",
              "    }\n",
              "</style>\n",
              "<table border=\"1\" class=\"dataframe\">\n",
              "  <thead>\n",
              "    <tr style=\"text-align: right;\">\n",
              "      <th></th>\n",
              "      <th>beacon1</th>\n",
              "      <th>beacon2</th>\n",
              "      <th>beacon3</th>\n",
              "      <th>beacon4</th>\n",
              "      <th>region</th>\n",
              "    </tr>\n",
              "  </thead>\n",
              "  <tbody>\n",
              "    <tr>\n",
              "      <th>186</th>\n",
              "      <td>-70.4</td>\n",
              "      <td>-63.2</td>\n",
              "      <td>-71.6</td>\n",
              "      <td>-69.4</td>\n",
              "      <td>2</td>\n",
              "    </tr>\n",
              "    <tr>\n",
              "      <th>384</th>\n",
              "      <td>-72.6</td>\n",
              "      <td>-78.0</td>\n",
              "      <td>-60.4</td>\n",
              "      <td>-64.0</td>\n",
              "      <td>3</td>\n",
              "    </tr>\n",
              "    <tr>\n",
              "      <th>141</th>\n",
              "      <td>-62.8</td>\n",
              "      <td>-87.6</td>\n",
              "      <td>-79.4</td>\n",
              "      <td>-71.8</td>\n",
              "      <td>1</td>\n",
              "    </tr>\n",
              "    <tr>\n",
              "      <th>435</th>\n",
              "      <td>-77.0</td>\n",
              "      <td>-75.6</td>\n",
              "      <td>-58.6</td>\n",
              "      <td>-58.6</td>\n",
              "      <td>3</td>\n",
              "    </tr>\n",
              "    <tr>\n",
              "      <th>592</th>\n",
              "      <td>-70.2</td>\n",
              "      <td>-73.6</td>\n",
              "      <td>-78.2</td>\n",
              "      <td>-64.2</td>\n",
              "      <td>4</td>\n",
              "    </tr>\n",
              "  </tbody>\n",
              "</table>\n",
              "</div>"
            ],
            "text/plain": [
              "     beacon1  beacon2  beacon3  beacon4  region\n",
              "186    -70.4    -63.2    -71.6    -69.4       2\n",
              "384    -72.6    -78.0    -60.4    -64.0       3\n",
              "141    -62.8    -87.6    -79.4    -71.8       1\n",
              "435    -77.0    -75.6    -58.6    -58.6       3\n",
              "592    -70.2    -73.6    -78.2    -64.2       4"
            ]
          },
          "metadata": {
            "tags": []
          },
          "execution_count": 37
        }
      ]
    },
    {
      "cell_type": "markdown",
      "metadata": {
        "id": "_GZ9UlSrtLBg",
        "colab_type": "text"
      },
      "source": [
        "**Logistic Regression Model Training**\n",
        "\n"
      ]
    },
    {
      "cell_type": "code",
      "metadata": {
        "id": "TDruaIEvsGrX",
        "colab_type": "code",
        "colab": {}
      },
      "source": [
        "X = df[['beacon1', 'beacon2', 'beacon3', 'beacon4']]\n",
        "y = df['region']"
      ],
      "execution_count": null,
      "outputs": []
    },
    {
      "cell_type": "code",
      "metadata": {
        "id": "9toqZBNYtgPJ",
        "colab_type": "code",
        "colab": {}
      },
      "source": [
        "X_train, X_test, y_train, y_test = train_test_split(X, y, test_size=0.4, random_state=1) "
      ],
      "execution_count": null,
      "outputs": []
    },
    {
      "cell_type": "code",
      "metadata": {
        "id": "Mb3H2e_LtoUv",
        "colab_type": "code",
        "colab": {
          "base_uri": "https://localhost:8080/",
          "height": 190
        },
        "outputId": "4c6671fd-5dbe-469e-9144-f0d6f8196a14"
      },
      "source": [
        "# create logistic regression object \n",
        "reg = LogisticRegression() \n",
        "   \n",
        "# train the model using the training sets \n",
        "reg.fit(X_train, y_train) "
      ],
      "execution_count": null,
      "outputs": [
        {
          "output_type": "stream",
          "text": [
            "/usr/local/lib/python3.6/dist-packages/sklearn/linear_model/logistic.py:432: FutureWarning: Default solver will be changed to 'lbfgs' in 0.22. Specify a solver to silence this warning.\n",
            "  FutureWarning)\n",
            "/usr/local/lib/python3.6/dist-packages/sklearn/linear_model/logistic.py:469: FutureWarning: Default multi_class will be changed to 'auto' in 0.22. Specify the multi_class option to silence this warning.\n",
            "  \"this warning.\", FutureWarning)\n"
          ],
          "name": "stderr"
        },
        {
          "output_type": "execute_result",
          "data": {
            "text/plain": [
              "LogisticRegression(C=1.0, class_weight=None, dual=False, fit_intercept=True,\n",
              "                   intercept_scaling=1, l1_ratio=None, max_iter=100,\n",
              "                   multi_class='warn', n_jobs=None, penalty='l2',\n",
              "                   random_state=None, solver='warn', tol=0.0001, verbose=0,\n",
              "                   warm_start=False)"
            ]
          },
          "metadata": {
            "tags": []
          },
          "execution_count": 40
        }
      ]
    },
    {
      "cell_type": "code",
      "metadata": {
        "id": "xTvgpFGSuAZD",
        "colab_type": "code",
        "colab": {}
      },
      "source": [
        "# making predictions on the testing set \n",
        "y_pred = reg.predict(X_test) "
      ],
      "execution_count": null,
      "outputs": []
    },
    {
      "cell_type": "code",
      "metadata": {
        "id": "c2gojzaVuDHT",
        "colab_type": "code",
        "colab": {
          "base_uri": "https://localhost:8080/",
          "height": 34
        },
        "outputId": "5554ee6f-53a1-44a5-f5b5-02b3b3fb1977"
      },
      "source": [
        "# comparing actual response values (y_test) with predicted response values (y_pred) \n",
        "print(\"Logistic Regression model accuracy(in %):\",  \n",
        "metrics.accuracy_score(y_test, y_pred)*100) "
      ],
      "execution_count": null,
      "outputs": [
        {
          "output_type": "stream",
          "text": [
            "Logistic Regression model accuracy(in %): 98.828125\n"
          ],
          "name": "stdout"
        }
      ]
    },
    {
      "cell_type": "markdown",
      "metadata": {
        "id": "0cRxb6IixVmn",
        "colab_type": "text"
      },
      "source": [
        "**sklearn2PMML**"
      ]
    },
    {
      "cell_type": "code",
      "metadata": {
        "id": "x8Ap4E0MuIsB",
        "colab_type": "code",
        "colab": {}
      },
      "source": [
        "!pip install --user --upgrade git+https://github.com/jpmml/sklearn2pmml.git"
      ],
      "execution_count": null,
      "outputs": []
    },
    {
      "cell_type": "markdown",
      "metadata": {
        "id": "9vfV6iMfoHKf",
        "colab_type": "text"
      },
      "source": [
        "**Pickle**"
      ]
    },
    {
      "cell_type": "code",
      "metadata": {
        "id": "EDf7-NpalkVk",
        "colab_type": "code",
        "colab": {}
      },
      "source": [
        "import pickle"
      ],
      "execution_count": null,
      "outputs": []
    },
    {
      "cell_type": "code",
      "metadata": {
        "id": "2Kzexy21mbao",
        "colab_type": "code",
        "colab": {}
      },
      "source": [
        "filename = 'finalized_model.sav'"
      ],
      "execution_count": null,
      "outputs": []
    },
    {
      "cell_type": "code",
      "metadata": {
        "id": "mRFkYBtGmL6k",
        "colab_type": "code",
        "colab": {}
      },
      "source": [
        "pickle.dump(reg, open(filename, 'wb'))"
      ],
      "execution_count": null,
      "outputs": []
    },
    {
      "cell_type": "markdown",
      "metadata": {
        "id": "Uo3Qx57MoLLw",
        "colab_type": "text"
      },
      "source": [
        "**Joblib**"
      ]
    },
    {
      "cell_type": "code",
      "metadata": {
        "id": "STSB6EgDmw26",
        "colab_type": "code",
        "colab": {
          "base_uri": "https://localhost:8080/",
          "height": 34
        },
        "outputId": "c894cac6-f71c-4193-f6b6-ad358cbc2700"
      },
      "source": [
        "from sklearn.externals import joblib\n",
        "joblib.dump(reg, '/content/drive/My Drive/model.pkl')"
      ],
      "execution_count": null,
      "outputs": [
        {
          "output_type": "execute_result",
          "data": {
            "text/plain": [
              "['/content/drive/My Drive/model.pkl']"
            ]
          },
          "metadata": {
            "tags": []
          },
          "execution_count": 139
        }
      ]
    },
    {
      "cell_type": "code",
      "metadata": {
        "id": "olE6AF15oUJP",
        "colab_type": "code",
        "colab": {}
      },
      "source": [
        "clf = joblib.load('/content/drive/My Drive/model.pkl')"
      ],
      "execution_count": null,
      "outputs": []
    },
    {
      "cell_type": "markdown",
      "metadata": {
        "id": "EZx6e9alo4_P",
        "colab_type": "text"
      },
      "source": [
        "**Flask**"
      ]
    },
    {
      "cell_type": "code",
      "metadata": {
        "id": "0H8zhbkgouWX",
        "colab_type": "code",
        "colab": {
          "base_uri": "https://localhost:8080/",
          "height": 119
        },
        "outputId": "9b3840ae-cb58-4d2a-f727-2482392f6200"
      },
      "source": [
        "from flask import Flask\n",
        "app = Flask(__name__)\n",
        "if __name__ == '__main__':\n",
        "     app.run(port=8081)"
      ],
      "execution_count": null,
      "outputs": [
        {
          "output_type": "stream",
          "text": [
            " * Serving Flask app \"__main__\" (lazy loading)\n",
            " * Environment: production\n",
            "   WARNING: This is a development server. Do not use it in a production deployment.\n",
            "   Use a production WSGI server instead.\n",
            " * Debug mode: off\n"
          ],
          "name": "stdout"
        },
        {
          "output_type": "stream",
          "text": [
            " * Running on http://127.0.0.1:8081/ (Press CTRL+C to quit)\n"
          ],
          "name": "stderr"
        }
      ]
    },
    {
      "cell_type": "code",
      "metadata": {
        "id": "8fFhD2kTo8fg",
        "colab_type": "code",
        "colab": {
          "base_uri": "https://localhost:8080/",
          "height": 119
        },
        "outputId": "9c4db8c2-9b6c-4855-9753-afe2d00937b4"
      },
      "source": [
        "from flask import Flask, jsonify\n",
        "from sklearn.externals import joblib\n",
        "import pandas as pd\n",
        "app = Flask(__name__)\n",
        "@app.route('/predict', methods=['POST'])\n",
        "def predict():\n",
        "      json_ = request.json\n",
        "      query_df = pd.DataFrame(json_)\n",
        "      query = pd.get_dummies(query_df)\n",
        "      prediction = clf.predict(query)\n",
        "      return jsonify({'prediction': list(map(int,list(prediction)))})\n",
        "if __name__ == '__main__':\n",
        "     clf = joblib.load('/content/drive/My Drive/model.pkl')\n",
        "     app.run(port=8081)"
      ],
      "execution_count": null,
      "outputs": [
        {
          "output_type": "stream",
          "text": [
            " * Serving Flask app \"__main__\" (lazy loading)\n",
            " * Environment: production\n",
            "   WARNING: This is a development server. Do not use it in a production deployment.\n",
            "   Use a production WSGI server instead.\n",
            " * Debug mode: off\n"
          ],
          "name": "stdout"
        },
        {
          "output_type": "stream",
          "text": [
            " * Running on http://127.0.0.1:8081/ (Press CTRL+C to quit)\n"
          ],
          "name": "stderr"
        }
      ]
    },
    {
      "cell_type": "code",
      "metadata": {
        "id": "okWmpDJxqPXf",
        "colab_type": "code",
        "colab": {
          "base_uri": "https://localhost:8080/",
          "height": 34
        },
        "outputId": "09c2ca8f-0052-4414-c115-4f7e2b39c911"
      },
      "source": [
        "!python main.py"
      ],
      "execution_count": null,
      "outputs": [
        {
          "output_type": "stream",
          "text": [
            "python3: can't open file 'main.py': [Errno 2] No such file or directory\n"
          ],
          "name": "stdout"
        }
      ]
    },
    {
      "cell_type": "markdown",
      "metadata": {
        "id": "0QTEMdQc4IBg",
        "colab_type": "text"
      },
      "source": [
        "**Flask on colab** "
      ]
    },
    {
      "cell_type": "code",
      "metadata": {
        "id": "o0PuyS0V33LK",
        "colab_type": "code",
        "colab": {
          "base_uri": "https://localhost:8080/",
          "height": 119
        },
        "outputId": "ca597aa6-b3e5-445e-e930-2d072d175783"
      },
      "source": [
        "import socket\n",
        "print(socket.gethostbyname(socket.getfqdn(socket.gethostname())))\n",
        "\n",
        "from flask import Flask\n",
        "app = Flask(__name__)\n",
        "\n",
        "@app.route(\"/\")\n",
        "def hello():\n",
        "      clf = joblib.load('/content/drive/My Drive/model.pkl')\n",
        "      json_ = request.json\n",
        "      query_df = pd.DataFrame(json_)\n",
        "      query = pd.get_dummies(query_df)\n",
        "      prediction = clf.predict(query)\n",
        "      return jsonify({'prediction': list(prediction)})\n",
        "\n",
        "import threading\n",
        "threading.Thread(target=app.run, kwargs={'host':'0.0.0.0','port':8083}).start() "
      ],
      "execution_count": null,
      "outputs": [
        {
          "output_type": "stream",
          "text": [
            " * Serving Flask app \"__main__\" (lazy loading)\n",
            "172.28.0.2\n",
            " * Environment: production\n",
            "   WARNING: This is a development server. Do not use it in a production deployment.\n",
            "   Use a production WSGI server instead.\n",
            " * Debug mode: off\n"
          ],
          "name": "stdout"
        }
      ]
    },
    {
      "cell_type": "code",
      "metadata": {
        "id": "FIEXx4Nt8hMo",
        "colab_type": "code",
        "colab": {}
      },
      "source": [
        ""
      ],
      "execution_count": null,
      "outputs": []
    }
  ]
}